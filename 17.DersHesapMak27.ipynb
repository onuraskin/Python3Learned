{
 "cells": [
  {
   "cell_type": "code",
   "execution_count": null,
   "metadata": {},
   "outputs": [],
   "source": [
    "print(\"\"\"\n",
    "   [1]Toplama\n",
    "   [2]Çıkarma\n",
    "   [3]Çarpma\n",
    "   [4]Bölme\n",
    "   [0]Çıkış \n",
    "\t\"\"\")\n",
    "giris=input(\"Seciminiz : \")\n",
    "\n",
    "\n",
    "if giris == \"1\":\n",
    "    x= input(\"İlk Sayi :\")\n",
    "    x=  float(x)\n",
    "    y= input(\"İkinci Sayi :\")\n",
    "    y= input(y)\n",
    "    \n",
    "    \n",
    "    print(\"Sayilarinizin toplami :\",x+y)\n"
   ]
  }
 ],
 "metadata": {
  "kernelspec": {
   "display_name": "Python 3",
   "language": "python",
   "name": "python3"
  },
  "language_info": {
   "codemirror_mode": {
    "name": "ipython",
    "version": 3
   },
   "file_extension": ".py",
   "mimetype": "text/x-python",
   "name": "python",
   "nbconvert_exporter": "python",
   "pygments_lexer": "ipython3",
   "version": "3.7.6"
  }
 },
 "nbformat": 4,
 "nbformat_minor": 4
}
