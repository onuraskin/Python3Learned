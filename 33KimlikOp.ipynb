{
 "cells": [
  {
   "cell_type": "code",
   "execution_count": 5,
   "metadata": {},
   "outputs": [
    {
     "name": "stdout",
     "output_type": "stream",
     "text": [
      "Ayni\n",
      "Ayni\n",
      "1780676592\n",
      "1780676592\n",
      "1780676592\n"
     ]
    }
   ],
   "source": [
    "\"\"\"\n",
    "#is işleci\n",
    "#id işleci\n",
    "\n",
    "\"\"\"\n",
    "a=5\n",
    "b=5\n",
    "if a==b :#değerlerine bakar \n",
    "    print(\"Ayni\")\n",
    "if a is b:#kimliklere bakar\n",
    "    print(\"Ayni\")\n",
    "print(id(a))\n",
    "print(id(b))\n",
    "print(id(5))"
   ]
  },
  {
   "cell_type": "code",
   "execution_count": 9,
   "metadata": {},
   "outputs": [
    {
     "name": "stdout",
     "output_type": "stream",
     "text": [
      "1780676592\n",
      "1780676592\n",
      "1780676592\n"
     ]
    }
   ],
   "source": [
    "x=5\n",
    "y=5\n",
    "print(id(x))\n",
    "print(id(y))\n",
    "print(id(5))"
   ]
  },
  {
   "cell_type": "code",
   "execution_count": null,
   "metadata": {},
   "outputs": [],
   "source": [
    " "
   ]
  }
 ],
 "metadata": {
  "kernelspec": {
   "display_name": "Python 3",
   "language": "python",
   "name": "python3"
  },
  "language_info": {
   "codemirror_mode": {
    "name": "ipython",
    "version": 3
   },
   "file_extension": ".py",
   "mimetype": "text/x-python",
   "name": "python",
   "nbconvert_exporter": "python",
   "pygments_lexer": "ipython3",
   "version": "3.8.2"
  }
 },
 "nbformat": 4,
 "nbformat_minor": 4
}
