{
 "cells": [
  {
   "cell_type": "code",
   "execution_count": 2,
   "metadata": {},
   "outputs": [
    {
     "name": "stdout",
     "output_type": "stream",
     "text": [
      "Mevcut\n"
     ]
    }
   ],
   "source": [
    "#in isleci\n",
    "x=\"abc\"\n",
    "if \"b\" in x: #eğer b karekter dizisi x in içinde varsa\n",
    "    print(\"Mevcut\")"
   ]
  },
  {
   "cell_type": "code",
   "execution_count": 3,
   "metadata": {},
   "outputs": [
    {
     "name": "stdout",
     "output_type": "stream",
     "text": [
      "A harfi var \n"
     ]
    }
   ],
   "source": [
    "x=\"abcdefg\"\n",
    "if \"a\"not in x :\n",
    "    print(\"A harfi yok\")\n",
    "else :\n",
    "    print(\"A harfi var \")"
   ]
  },
  {
   "cell_type": "code",
   "execution_count": null,
   "metadata": {},
   "outputs": [],
   "source": [
    "x=\"bcdefg\"\n",
    "if \"a\"not in x :\n",
    "    print(\"A harfi yok\")\n",
    "else :\n",
    "    print(\"A harfi var \")"
   ]
  },
  {
   "cell_type": "code",
   "execution_count": 8,
   "metadata": {},
   "outputs": [
    {
     "name": "stdout",
     "output_type": "stream",
     "text": [
      "Parolanızı Oluşturunuz  : _onur\n",
      "Parolanız _ (Alt Çizgi)  İçermemeli \n"
     ]
    }
   ],
   "source": [
    "giris=input(\"Parolanızı Oluşturunuz  : \")\n",
    "if \"_\" in giris :\n",
    "    print(\"Parolanız _ (Alt Çizgi)  İçermemeli \")\n",
    "else:\n",
    "    \"Parola olusturma Başarili\""
   ]
  },
  {
   "cell_type": "code",
   "execution_count": 10,
   "metadata": {},
   "outputs": [
    {
     "name": "stdout",
     "output_type": "stream",
     "text": [
      "Parolanızı Oluşturunuz  : onur\n"
     ]
    }
   ],
   "source": [
    "giris=input(\"Parolanızı Oluşturunuz  : \")\n",
    "if \"_\" in giris :\n",
    "    print(\"Parolanız _ (Alt Çizgi)  İçermemeli \")\n",
    "else:\n",
    "    \"Parola olusturma Başarili\""
   ]
  },
  {
   "cell_type": "code",
   "execution_count": null,
   "metadata": {},
   "outputs": [],
   "source": []
  }
 ],
 "metadata": {
  "kernelspec": {
   "display_name": "Python 3",
   "language": "python",
   "name": "python3"
  },
  "language_info": {
   "codemirror_mode": {
    "name": "ipython",
    "version": 3
   },
   "file_extension": ".py",
   "mimetype": "text/x-python",
   "name": "python",
   "nbconvert_exporter": "python",
   "pygments_lexer": "ipython3",
   "version": "3.8.2"
  }
 },
 "nbformat": 4,
 "nbformat_minor": 4
}
