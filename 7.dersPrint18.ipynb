{
 "cells": [
  {
   "cell_type": "code",
   "execution_count": 1,
   "metadata": {},
   "outputs": [
    {
     "name": "stdout",
     "output_type": "stream",
     "text": [
      "Onur\n",
      "3\n",
      "Onur\n",
      "3 Onur 15\n",
      "askdjasklf 3 Onur 15\n"
     ]
    }
   ],
   "source": [
    "#bu kodlar Sublime Text te yazılıp Terminalde Çalıştırılmıştır \n",
    "print(\"Onur\") #Her fonksiyonun parantezleri vardır,parantez fonksiyon belirtir \n",
    "x=3\n",
    "y=15\n",
    "a=\"Onur\"\n",
    "print(x)# sadece 3 yazarak terminalde kodu bastıramam \n",
    "y#y yi basmadı terminale çünkü print fonksiyonunu kullanmadık \n",
    "print(a)\n",
    "print(x,a,y)#virgül koyduğum yere boşluk geliyor . \n",
    "print(\"askdjasklf\",x,a,y)"
   ]
  },
  {
   "cell_type": "code",
   "execution_count": null,
   "metadata": {},
   "outputs": [],
   "source": []
  }
 ],
 "metadata": {
  "kernelspec": {
   "display_name": "Python 3",
   "language": "python",
   "name": "python3"
  },
  "language_info": {
   "codemirror_mode": {
    "name": "ipython",
    "version": 3
   },
   "file_extension": ".py",
   "mimetype": "text/x-python",
   "name": "python",
   "nbconvert_exporter": "python",
   "pygments_lexer": "ipython3",
   "version": "3.8.2"
  }
 },
 "nbformat": 4,
 "nbformat_minor": 4
}
