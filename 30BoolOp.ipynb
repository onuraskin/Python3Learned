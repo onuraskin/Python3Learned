{
 "cells": [
  {
   "cell_type": "code",
   "execution_count": 1,
   "metadata": {},
   "outputs": [
    {
     "name": "stdout",
     "output_type": "stream",
     "text": [
      "Sayi gir : 8\n",
      "Doğru\n"
     ]
    }
   ],
   "source": [
    "\"\"\"\n",
    " and\n",
    " or \n",
    " not\n",
    " \"\"  ----> boş bir stringin içi false çıktısı verir \n",
    " \n",
    "\n",
    "\"\"\"\n",
    "sayi = int(input(\"Sayi gir : \"))\n",
    "if sayi > 5 and sayi % 2 == 0 :\n",
    "    print(\"Doğru\")\n",
    "    "
   ]
  },
  {
   "cell_type": "code",
   "execution_count": 3,
   "metadata": {},
   "outputs": [
    {
     "name": "stdout",
     "output_type": "stream",
     "text": [
      "Sayi gir : 4\n",
      "Doğru\n"
     ]
    }
   ],
   "source": [
    "sayi = int(input(\"Sayi gir : \"))\n",
    "if sayi > 5 or sayi % 2 == 0 :\n",
    "    print(\"Doğru\")"
   ]
  },
  {
   "cell_type": "code",
   "execution_count": 4,
   "metadata": {},
   "outputs": [
    {
     "name": "stdout",
     "output_type": "stream",
     "text": [
      "X gir : ali\n",
      "Y gir : veli\n"
     ]
    },
    {
     "data": {
      "text/plain": [
       "True"
      ]
     },
     "execution_count": 4,
     "metadata": {},
     "output_type": "execute_result"
    }
   ],
   "source": [
    "x = input(\"X gir : \")\n",
    "y = input(\"Y gir : \")\n",
    "bool(x)"
   ]
  },
  {
   "cell_type": "code",
   "execution_count": 8,
   "metadata": {},
   "outputs": [
    {
     "name": "stdout",
     "output_type": "stream",
     "text": [
      "X gir : \n",
      "Y gir : adasdas\n",
      "Doğrudur\n"
     ]
    }
   ],
   "source": [
    "x = input(\"X gir : \")\n",
    "y = input(\"Y gir : \")\n",
    "if not bool(x):\n",
    "    print(\"Doğrudur\")\n",
    "    #not un amacı false u true ya true yu falsa çevirmektir "
   ]
  },
  {
   "cell_type": "code",
   "execution_count": null,
   "metadata": {},
   "outputs": [],
   "source": []
  }
 ],
 "metadata": {
  "kernelspec": {
   "display_name": "Python 3",
   "language": "python",
   "name": "python3"
  },
  "language_info": {
   "codemirror_mode": {
    "name": "ipython",
    "version": 3
   },
   "file_extension": ".py",
   "mimetype": "text/x-python",
   "name": "python",
   "nbconvert_exporter": "python",
   "pygments_lexer": "ipython3",
   "version": "3.8.2"
  }
 },
 "nbformat": 4,
 "nbformat_minor": 4
}
