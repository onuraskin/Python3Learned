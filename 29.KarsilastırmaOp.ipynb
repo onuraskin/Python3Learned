{
 "cells": [
  {
   "cell_type": "code",
   "execution_count": 3,
   "metadata": {},
   "outputs": [
    {
     "name": "stdout",
     "output_type": "stream",
     "text": [
      "Şifre : ali\n",
      "Parola Yanlis\n"
     ]
    }
   ],
   "source": [
    "\"\"\"\n",
    "==  Eşitse\n",
    "!=  Eşit değilse\n",
    "<   Küçükse\n",
    ">   Büyükse\n",
    "!<  Küçük değilse\n",
    "!>  Büyük değilse\n",
    "\"\"\"\n",
    "\n",
    "giris=input(\"Şifre : \")\n",
    "\n",
    "sifre=\"deneme\"\n",
    "\n",
    "if giris == sifre:\n",
    "    print(\"Parolaniz dogru\")\n",
    "else:\n",
    "    print(\"Parola Yanlis\")"
   ]
  },
  {
   "cell_type": "code",
   "execution_count": 15,
   "metadata": {},
   "outputs": [
    {
     "name": "stdout",
     "output_type": "stream",
     "text": [
      "1 ile 100 arasında bir sayi giriniz :65\n",
      "Sayi 25 ten büyük\n"
     ]
    }
   ],
   "source": [
    "girisx=input(\"1 ile 100 arasında bir sayi giriniz :\")\n",
    "girisx = int(girisx)\n",
    "\n",
    "if girisx > 100 :\n",
    "    print(\"Sayi 100 den büyük \")\n",
    "elif girisx > 25 :\n",
    "      print(\"Sayi 25 ten büyük\")\n",
    "\n",
    "        \n",
    "    \n"
   ]
  },
  {
   "cell_type": "code",
   "execution_count": 16,
   "metadata": {},
   "outputs": [
    {
     "name": "stdout",
     "output_type": "stream",
     "text": [
      "1 ile 100 arasında bir sayi giriniz :110\n",
      "Sayi 100 den büyük \n"
     ]
    }
   ],
   "source": [
    "girisx=input(\"1 ile 100 arasında bir sayi giriniz :\")\n",
    "girisx = int(girisx)\n",
    "\n",
    "if girisx > 100 :\n",
    "    print(\"Sayi 100 den büyük \")\n",
    "elif girisx > 25 :\n",
    "      print(\"Sayi 25 ten büyük\")\n"
   ]
  },
  {
   "cell_type": "code",
   "execution_count": null,
   "metadata": {},
   "outputs": [],
   "source": []
  }
 ],
 "metadata": {
  "kernelspec": {
   "display_name": "Python 3",
   "language": "python",
   "name": "python3"
  },
  "language_info": {
   "codemirror_mode": {
    "name": "ipython",
    "version": 3
   },
   "file_extension": ".py",
   "mimetype": "text/x-python",
   "name": "python",
   "nbconvert_exporter": "python",
   "pygments_lexer": "ipython3",
   "version": "3.8.2"
  }
 },
 "nbformat": 4,
 "nbformat_minor": 4
}
