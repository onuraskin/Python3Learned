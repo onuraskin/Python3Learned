{
 "cells": [
  {
   "cell_type": "code",
   "execution_count": null,
   "metadata": {},
   "outputs": [],
   "source": [
    "#bu kodlar Sublime Text te yazılıp Terminalde Çalıştırılmıştır \n",
    "print(\"T\",\"B\",\"M\",\"M\",sep = \".\")\n",
    "#T.B.M.M çıktı bu şekilde\n",
    "print(\"T\",\"B\",\"M\",\"M\")\n",
    "#T B M M çıktı bu şekilde \n",
    "print(\"ONUR\",\"ASKİN\",sep=\"-_-_-\")\n",
    "#ONUR-_-_-ASKİN çıktı bu şekilde\n",
    "\n"
   ]
  }
 ],
 "metadata": {
  "kernelspec": {
   "display_name": "Python 3",
   "language": "python",
   "name": "python3"
  },
  "language_info": {
   "codemirror_mode": {
    "name": "ipython",
    "version": 3
   },
   "file_extension": ".py",
   "mimetype": "text/x-python",
   "name": "python",
   "nbconvert_exporter": "python",
   "pygments_lexer": "ipython3",
   "version": "3.8.2"
  }
 },
 "nbformat": 4,
 "nbformat_minor": 4
}
