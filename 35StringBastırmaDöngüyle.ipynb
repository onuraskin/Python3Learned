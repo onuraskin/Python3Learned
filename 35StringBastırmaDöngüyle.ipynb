{
 "cells": [
  {
   "cell_type": "code",
   "execution_count": 8,
   "metadata": {},
   "outputs": [
    {
     "name": "stdout",
     "output_type": "stream",
     "text": [
      "Bu  0 ' inci döngü\n",
      "Bu  1 ' inci döngü\n",
      "Bu  2 ' inci döngü\n",
      "Bu  3 ' inci döngü\n",
      "Bu  4 ' inci döngü\n",
      "Bu  5 ' inci döngü\n",
      "Bu  6 ' inci döngü\n",
      "Bu  7 ' inci döngü\n",
      "Bu  8 ' inci döngü\n",
      "Bu  9 ' inci döngü\n",
      "Bu  10 ' inci döngü\n",
      "Bu  11 ' inci döngü\n",
      "Bu  12 ' inci döngü\n",
      "Bu  13 ' inci döngü\n",
      "Bu  14 ' inci döngü\n"
     ]
    }
   ],
   "source": [
    "for sayi in range(0,15):\n",
    "    print(\"Bu  \"+str(sayi)+\" ' inci döngü\")\n",
    "    "
   ]
  },
  {
   "cell_type": "code",
   "execution_count": 10,
   "metadata": {},
   "outputs": [
    {
     "name": "stdout",
     "output_type": "stream",
     "text": [
      "Bu  0 ' inci döngü\n",
      "Bu  3 ' inci döngü\n",
      "Bu  6 ' inci döngü\n",
      "Bu  9 ' inci döngü\n",
      "Bu  12 ' inci döngü\n"
     ]
    }
   ],
   "source": [
    "for sayi in range(0,15,3):#3. parametretse kaç kaç arttırıcağımızı gösterir \n",
    "    print(\"Bu  \"+str(sayi)+\" ' inci döngü\")"
   ]
  },
  {
   "cell_type": "code",
   "execution_count": null,
   "metadata": {},
   "outputs": [],
   "source": []
  }
 ],
 "metadata": {
  "kernelspec": {
   "display_name": "Python 3",
   "language": "python",
   "name": "python3"
  },
  "language_info": {
   "codemirror_mode": {
    "name": "ipython",
    "version": 3
   },
   "file_extension": ".py",
   "mimetype": "text/x-python",
   "name": "python",
   "nbconvert_exporter": "python",
   "pygments_lexer": "ipython3",
   "version": "3.8.2"
  }
 },
 "nbformat": 4,
 "nbformat_minor": 4
}
