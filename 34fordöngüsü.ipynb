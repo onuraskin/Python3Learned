{
 "cells": [
  {
   "cell_type": "code",
   "execution_count": 3,
   "metadata": {},
   "outputs": [
    {
     "name": "stdout",
     "output_type": "stream",
     "text": [
      "a\n",
      "b\n",
      "c\n",
      "ç\n",
      "d\n",
      "e\n",
      "f\n",
      "g\n",
      "ğ\n",
      "h\n",
      "i\n",
      "ı\n",
      "j\n",
      "k\n",
      "l\n",
      "m\n",
      "n\n",
      "o\n",
      "ö\n",
      "p\n",
      "r\n",
      "s\n",
      "ş\n",
      "t\n",
      "u\n",
      "ü\n",
      "v\n",
      "y\n",
      "z\n",
      "29\n"
     ]
    }
   ],
   "source": [
    "alfabe=\"abcçdefgğhiıjklmnoöprsştuüvyz\"\n",
    "sayi=0\n",
    "for harf in alfabe:\n",
    "    sayi += 1\n",
    "    print(harf)\n",
    "print(sayi)"
   ]
  },
  {
   "cell_type": "code",
   "execution_count": null,
   "metadata": {},
   "outputs": [],
   "source": []
  }
 ],
 "metadata": {
  "kernelspec": {
   "display_name": "Python 3",
   "language": "python",
   "name": "python3"
  },
  "language_info": {
   "codemirror_mode": {
    "name": "ipython",
    "version": 3
   },
   "file_extension": ".py",
   "mimetype": "text/x-python",
   "name": "python",
   "nbconvert_exporter": "python",
   "pygments_lexer": "ipython3",
   "version": "3.8.2"
  }
 },
 "nbformat": 4,
 "nbformat_minor": 4
}
